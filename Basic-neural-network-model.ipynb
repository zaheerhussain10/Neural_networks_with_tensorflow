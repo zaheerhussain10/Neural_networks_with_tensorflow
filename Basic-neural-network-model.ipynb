{
  "nbformat": 4,
  "nbformat_minor": 0,
  "metadata": {
    "colab": {
      "provenance": [],
      "authorship_tag": "ABX9TyO2w1jN4tT3o3erlXlxRkxM",
      "include_colab_link": true
    },
    "kernelspec": {
      "name": "python3",
      "display_name": "Python 3"
    },
    "language_info": {
      "name": "python"
    }
  },
  "cells": [
    {
      "cell_type": "markdown",
      "metadata": {
        "id": "view-in-github",
        "colab_type": "text"
      },
      "source": [
        "<a href=\"https://colab.research.google.com/github/zaheerhussain10/Neural_networks_with_tensorflow/blob/main/Basic-neural-network-model.ipynb\" target=\"_parent\"><img src=\"https://colab.research.google.com/assets/colab-badge.svg\" alt=\"Open In Colab\"/></a>"
      ]
    },
    {
      "cell_type": "markdown",
      "source": [
        "# **Importing necessary libraries**"
      ],
      "metadata": {
        "id": "rE8UqTxaq9kE"
      }
    },
    {
      "cell_type": "code",
      "execution_count": 1,
      "metadata": {
        "id": "1lEBv_IxjvJl"
      },
      "outputs": [],
      "source": [
        "import tensorflow as tf\n",
        "import numpy as np\n",
        "from tensorflow import keras\n"
      ]
    },
    {
      "cell_type": "markdown",
      "source": [
        "Model creation"
      ],
      "metadata": {
        "id": "RSP2eIShrZzF"
      }
    },
    {
      "cell_type": "code",
      "source": [
        "model= tf.keras.Sequential([keras.layers.Dense(units=1,input_shape=[1])])"
      ],
      "metadata": {
        "id": "p3cStuGtoQQ9"
      },
      "execution_count": 2,
      "outputs": []
    },
    {
      "cell_type": "markdown",
      "source": [
        "model compiling"
      ],
      "metadata": {
        "id": "8B0BjBKXrgLv"
      }
    },
    {
      "cell_type": "code",
      "source": [
        "model.compile(optimizer='sgd',loss='mean_squared_error')"
      ],
      "metadata": {
        "id": "6utPYyp8pqYe"
      },
      "execution_count": 3,
      "outputs": []
    },
    {
      "cell_type": "markdown",
      "source": [
        "Feeding data"
      ],
      "metadata": {
        "id": "yrAYu_GErzcw"
      }
    },
    {
      "cell_type": "code",
      "source": [
        "xs= np.array([-1.0,0.0,1.0,2.0,3.0,4.0],dtype=float)\n",
        "ys= np.array([-3.0,-1.0,1.0,3.0,5.0,7.0],dtype=float)"
      ],
      "metadata": {
        "id": "x0syoBFar408"
      },
      "execution_count": 4,
      "outputs": []
    },
    {
      "cell_type": "markdown",
      "source": [
        "Train The Model"
      ],
      "metadata": {
        "id": "zFJgPXHgtww3"
      }
    },
    {
      "cell_type": "code",
      "source": [
        "model.fit(xs,ys,epochs=50)"
      ],
      "metadata": {
        "colab": {
          "base_uri": "https://localhost:8080/"
        },
        "id": "CfegLF6LtkFb",
        "outputId": "89fb118c-52b8-449d-8375-74439e90dc50"
      },
      "execution_count": 5,
      "outputs": [
        {
          "output_type": "stream",
          "name": "stdout",
          "text": [
            "Epoch 1/50\n",
            "1/1 [==============================] - 1s 585ms/step - loss: 14.6162\n",
            "Epoch 2/50\n",
            "1/1 [==============================] - 0s 10ms/step - loss: 11.7374\n",
            "Epoch 3/50\n",
            "1/1 [==============================] - 0s 10ms/step - loss: 9.4676\n",
            "Epoch 4/50\n",
            "1/1 [==============================] - 0s 12ms/step - loss: 7.6771\n",
            "Epoch 5/50\n",
            "1/1 [==============================] - 0s 11ms/step - loss: 6.2636\n",
            "Epoch 6/50\n",
            "1/1 [==============================] - 0s 9ms/step - loss: 5.1470\n",
            "Epoch 7/50\n",
            "1/1 [==============================] - 0s 9ms/step - loss: 4.2641\n",
            "Epoch 8/50\n",
            "1/1 [==============================] - 0s 9ms/step - loss: 3.5650\n",
            "Epoch 9/50\n",
            "1/1 [==============================] - 0s 12ms/step - loss: 3.0106\n",
            "Epoch 10/50\n",
            "1/1 [==============================] - 0s 11ms/step - loss: 2.5703\n",
            "Epoch 11/50\n",
            "1/1 [==============================] - 0s 9ms/step - loss: 2.2197\n",
            "Epoch 12/50\n",
            "1/1 [==============================] - 0s 10ms/step - loss: 1.9398\n",
            "Epoch 13/50\n",
            "1/1 [==============================] - 0s 9ms/step - loss: 1.7156\n",
            "Epoch 14/50\n",
            "1/1 [==============================] - 0s 10ms/step - loss: 1.5354\n",
            "Epoch 15/50\n",
            "1/1 [==============================] - 0s 14ms/step - loss: 1.3897\n",
            "Epoch 16/50\n",
            "1/1 [==============================] - 0s 9ms/step - loss: 1.2714\n",
            "Epoch 17/50\n",
            "1/1 [==============================] - 0s 10ms/step - loss: 1.1747\n",
            "Epoch 18/50\n",
            "1/1 [==============================] - 0s 12ms/step - loss: 1.0950\n",
            "Epoch 19/50\n",
            "1/1 [==============================] - 0s 14ms/step - loss: 1.0288\n",
            "Epoch 20/50\n",
            "1/1 [==============================] - 0s 13ms/step - loss: 0.9733\n",
            "Epoch 21/50\n",
            "1/1 [==============================] - 0s 12ms/step - loss: 0.9262\n",
            "Epoch 22/50\n",
            "1/1 [==============================] - 0s 10ms/step - loss: 0.8859\n",
            "Epoch 23/50\n",
            "1/1 [==============================] - 0s 10ms/step - loss: 0.8510\n",
            "Epoch 24/50\n",
            "1/1 [==============================] - 0s 11ms/step - loss: 0.8203\n",
            "Epoch 25/50\n",
            "1/1 [==============================] - 0s 9ms/step - loss: 0.7931\n",
            "Epoch 26/50\n",
            "1/1 [==============================] - 0s 9ms/step - loss: 0.7686\n",
            "Epoch 27/50\n",
            "1/1 [==============================] - 0s 10ms/step - loss: 0.7464\n",
            "Epoch 28/50\n",
            "1/1 [==============================] - 0s 11ms/step - loss: 0.7261\n",
            "Epoch 29/50\n",
            "1/1 [==============================] - 0s 10ms/step - loss: 0.7072\n",
            "Epoch 30/50\n",
            "1/1 [==============================] - 0s 9ms/step - loss: 0.6895\n",
            "Epoch 31/50\n",
            "1/1 [==============================] - 0s 10ms/step - loss: 0.6729\n",
            "Epoch 32/50\n",
            "1/1 [==============================] - 0s 9ms/step - loss: 0.6571\n",
            "Epoch 33/50\n",
            "1/1 [==============================] - 0s 10ms/step - loss: 0.6421\n",
            "Epoch 34/50\n",
            "1/1 [==============================] - 0s 9ms/step - loss: 0.6277\n",
            "Epoch 35/50\n",
            "1/1 [==============================] - 0s 10ms/step - loss: 0.6139\n",
            "Epoch 36/50\n",
            "1/1 [==============================] - 0s 12ms/step - loss: 0.6005\n",
            "Epoch 37/50\n",
            "1/1 [==============================] - 0s 9ms/step - loss: 0.5876\n",
            "Epoch 38/50\n",
            "1/1 [==============================] - 0s 9ms/step - loss: 0.5751\n",
            "Epoch 39/50\n",
            "1/1 [==============================] - 0s 10ms/step - loss: 0.5629\n",
            "Epoch 40/50\n",
            "1/1 [==============================] - 0s 10ms/step - loss: 0.5511\n",
            "Epoch 41/50\n",
            "1/1 [==============================] - 0s 9ms/step - loss: 0.5395\n",
            "Epoch 42/50\n",
            "1/1 [==============================] - 0s 12ms/step - loss: 0.5283\n",
            "Epoch 43/50\n",
            "1/1 [==============================] - 0s 11ms/step - loss: 0.5173\n",
            "Epoch 44/50\n",
            "1/1 [==============================] - 0s 10ms/step - loss: 0.5066\n",
            "Epoch 45/50\n",
            "1/1 [==============================] - 0s 10ms/step - loss: 0.4961\n",
            "Epoch 46/50\n",
            "1/1 [==============================] - 0s 15ms/step - loss: 0.4858\n",
            "Epoch 47/50\n",
            "1/1 [==============================] - 0s 16ms/step - loss: 0.4758\n",
            "Epoch 48/50\n",
            "1/1 [==============================] - 0s 10ms/step - loss: 0.4660\n",
            "Epoch 49/50\n",
            "1/1 [==============================] - 0s 13ms/step - loss: 0.4564\n",
            "Epoch 50/50\n",
            "1/1 [==============================] - 0s 10ms/step - loss: 0.4470\n"
          ]
        },
        {
          "output_type": "execute_result",
          "data": {
            "text/plain": [
              "<keras.src.callbacks.History at 0x7b0f0c138be0>"
            ]
          },
          "metadata": {},
          "execution_count": 5
        }
      ]
    },
    {
      "cell_type": "code",
      "source": [
        "print(model.predict([10]))"
      ],
      "metadata": {
        "colab": {
          "base_uri": "https://localhost:8080/"
        },
        "id": "EocluISR0zCJ",
        "outputId": "121c716c-636c-4e58-d371-048a967ea771"
      },
      "execution_count": 8,
      "outputs": [
        {
          "output_type": "stream",
          "name": "stdout",
          "text": [
            "1/1 [==============================] - 0s 52ms/step\n",
            "[[17.012066]]\n"
          ]
        }
      ]
    }
  ]
}